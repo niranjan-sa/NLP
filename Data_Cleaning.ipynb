{
  "nbformat": 4,
  "nbformat_minor": 0,
  "metadata": {
    "colab": {
      "name": "Data Cleaning.ipynb",
      "provenance": [],
      "collapsed_sections": [],
      "machine_shape": "hm",
      "include_colab_link": true
    },
    "kernelspec": {
      "name": "python3",
      "display_name": "Python 3"
    },
    "accelerator": "GPU"
  },
  "cells": [
    {
      "cell_type": "markdown",
      "metadata": {
        "id": "view-in-github",
        "colab_type": "text"
      },
      "source": [
        "<a href=\"https://colab.research.google.com/github/niranjan-sa/NLP/blob/master/Data_Cleaning.ipynb\" target=\"_parent\"><img src=\"https://colab.research.google.com/assets/colab-badge.svg\" alt=\"Open In Colab\"/></a>"
      ]
    },
    {
      "cell_type": "code",
      "metadata": {
        "id": "RVIbJig9TnB5",
        "colab_type": "code",
        "colab": {
          "base_uri": "https://localhost:8080/",
          "height": 128
        },
        "outputId": "c6a9fb1c-1c79-408e-d5a0-35cea8426462"
      },
      "source": [
        "from google.colab import drive\n",
        "drive.mount('/gdrive')\n"
      ],
      "execution_count": 1,
      "outputs": [
        {
          "output_type": "stream",
          "text": [
            "Go to this URL in a browser: https://accounts.google.com/o/oauth2/auth?client_id=947318989803-6bn6qk8qdgf4n4g3pfee6491hc0brc4i.apps.googleusercontent.com&redirect_uri=urn%3aietf%3awg%3aoauth%3a2.0%3aoob&response_type=code&scope=email%20https%3a%2f%2fwww.googleapis.com%2fauth%2fdocs.test%20https%3a%2f%2fwww.googleapis.com%2fauth%2fdrive%20https%3a%2f%2fwww.googleapis.com%2fauth%2fdrive.photos.readonly%20https%3a%2f%2fwww.googleapis.com%2fauth%2fpeopleapi.readonly\n",
            "\n",
            "Enter your authorization code:\n",
            "··········\n",
            "Mounted at /gdrive\n"
          ],
          "name": "stdout"
        }
      ]
    },
    {
      "cell_type": "code",
      "metadata": {
        "id": "C2vPCUXlTRfa",
        "colab_type": "code",
        "outputId": "bdb0a66f-20e1-43ef-dd5e-745bb98f5858",
        "colab": {
          "base_uri": "https://localhost:8080/",
          "height": 35
        }
      },
      "source": [
        "import os\n",
        "print(os.listdir('../gdrive/My Drive/NLP/Final Project/'))\n",
        "os.chdir('../gdrive/My Drive/NLP/Final Project/')"
      ],
      "execution_count": 7,
      "outputs": [
        {
          "output_type": "stream",
          "text": [
            "['data', 'Data Cleaning.ipynb']\n"
          ],
          "name": "stdout"
        }
      ]
    },
    {
      "cell_type": "code",
      "metadata": {
        "id": "G3ZUTlfGZ74i",
        "colab_type": "code",
        "colab": {}
      },
      "source": [
        "blogs = open('data/en_US.blogs.txt', 'rt')\n",
        "text = blogs.read()\n",
        "blogs.close()"
      ],
      "execution_count": 0,
      "outputs": []
    },
    {
      "cell_type": "code",
      "metadata": {
        "id": "-hccTKW8b3Ak",
        "colab_type": "code",
        "colab": {
          "base_uri": "https://localhost:8080/",
          "height": 35
        },
        "outputId": "95bb50eb-1f6e-426c-f32f-b8f9210a4ce2"
      },
      "source": [
        "corpus = text\n",
        "print(len(corpus))"
      ],
      "execution_count": 26,
      "outputs": [
        {
          "output_type": "stream",
          "text": [
            "207723793\n"
          ],
          "name": "stdout"
        }
      ]
    },
    {
      "cell_type": "code",
      "metadata": {
        "id": "ddvl0Fffe0Yw",
        "colab_type": "code",
        "colab": {
          "base_uri": "https://localhost:8080/",
          "height": 35
        },
        "outputId": "4b27f6d0-3042-4593-db48-c2dd6c02f5eb"
      },
      "source": [
        "# We will remove double quotes, !, ? $, #, etc\n",
        "# specify to translate chars \n",
        "str1 = \"\"\n",
        "# specify to replace with \n",
        "str2 = \"\"\n",
        "# delete chars \n",
        "str3 = \"\\\"!?#$%^&*+\"\n",
        "\n",
        "trg = corpus\n",
        "table = trg.maketrans(str1, str2, str3)\n",
        "corpus = trg.translate(table)\n",
        "\n",
        "print(len(corpus))"
      ],
      "execution_count": 27,
      "outputs": [
        {
          "output_type": "stream",
          "text": [
            "207180408\n"
          ],
          "name": "stdout"
        }
      ]
    },
    {
      "cell_type": "code",
      "metadata": {
        "id": "lnzN1dsSTSIG",
        "colab_type": "code",
        "colab": {}
      },
      "source": [
        "words = corpus.split()"
      ],
      "execution_count": 0,
      "outputs": []
    },
    {
      "cell_type": "code",
      "metadata": {
        "id": "gN349IzmbyGO",
        "colab_type": "code",
        "colab": {}
      },
      "source": [
        "# convert to lower case\n",
        "words = [word.lower() for word in words]"
      ],
      "execution_count": 0,
      "outputs": []
    },
    {
      "cell_type": "code",
      "metadata": {
        "id": "ojeuhSILeh01",
        "colab_type": "code",
        "colab": {
          "base_uri": "https://localhost:8080/",
          "height": 35
        },
        "outputId": "c4c3c68a-6152-40a6-f0e9-b89b82e1251b"
      },
      "source": [
        "# The data set is cleaned. So, let's try to build a frequency table for n-grams\n",
        "print(len(set(words)))\n",
        "# Vocab size\n",
        "import nltk\n",
        "freq_dist = nltk.FreqDist(words)"
      ],
      "execution_count": 37,
      "outputs": [
        {
          "output_type": "stream",
          "text": [
            "861073\n"
          ],
          "name": "stdout"
        }
      ]
    },
    {
      "cell_type": "code",
      "metadata": {
        "id": "d5zYtntogNRV",
        "colab_type": "code",
        "colab": {
          "base_uri": "https://localhost:8080/",
          "height": 199
        },
        "outputId": "418c4c86-30d8-429d-cb9d-581ff87cd9af"
      },
      "source": [
        "freq_dist.most_common(10) # the most common words in our corpus."
      ],
      "execution_count": 41,
      "outputs": [
        {
          "output_type": "execute_result",
          "data": {
            "text/plain": [
              "[('the', 1842860),\n",
              " ('and', 1070028),\n",
              " ('to', 1057986),\n",
              " ('a', 890187),\n",
              " ('of', 871259),\n",
              " ('i', 754706),\n",
              " ('in', 582588),\n",
              " ('that', 440011),\n",
              " ('is', 419032),\n",
              " ('for', 357301)]"
            ]
          },
          "metadata": {
            "tags": []
          },
          "execution_count": 41
        }
      ]
    },
    {
      "cell_type": "code",
      "metadata": {
        "id": "4Pa8rZ-miPw2",
        "colab_type": "code",
        "colab": {}
      },
      "source": [
        "from nltk.util import ngrams\n",
        "\n",
        "esBigrams = ngrams(words, 2)"
      ],
      "execution_count": 0,
      "outputs": []
    },
    {
      "cell_type": "code",
      "metadata": {
        "id": "D98AsZcisc3t",
        "colab_type": "code",
        "colab": {}
      },
      "source": [
        "import collections\n",
        "esBigramFreq = collections.Counter(esBigrams)"
      ],
      "execution_count": 0,
      "outputs": []
    },
    {
      "cell_type": "code",
      "metadata": {
        "id": "rMrRlnWeslb8",
        "colab_type": "code",
        "colab": {
          "base_uri": "https://localhost:8080/",
          "height": 199
        },
        "outputId": "09185493-6456-46e1-8708-af7faf64476c"
      },
      "source": [
        "esBigramFreq.most_common(10)"
      ],
      "execution_count": 44,
      "outputs": [
        {
          "output_type": "execute_result",
          "data": {
            "text/plain": [
              "[(('of', 'the'), 186419),\n",
              " (('in', 'the'), 151834),\n",
              " (('to', 'the'), 85458),\n",
              " (('on', 'the'), 74535),\n",
              " (('to', 'be'), 65639),\n",
              " (('and', 'the'), 57707),\n",
              " (('for', 'the'), 57450),\n",
              " (('i', 'was'), 48292),\n",
              " (('and', 'i'), 47598),\n",
              " (('at', 'the'), 47021)]"
            ]
          },
          "metadata": {
            "tags": []
          },
          "execution_count": 44
        }
      ]
    },
    {
      "cell_type": "code",
      "metadata": {
        "id": "WBKsbjfyuUQ_",
        "colab_type": "code",
        "colab": {}
      },
      "source": [
        "esTrigrams = ngrams(words, 3)\n",
        "esTrigramFreq = collections.Counter(esTrigrams)"
      ],
      "execution_count": 0,
      "outputs": []
    },
    {
      "cell_type": "code",
      "metadata": {
        "id": "L_-hIXdvuema",
        "colab_type": "code",
        "colab": {
          "base_uri": "https://localhost:8080/",
          "height": 199
        },
        "outputId": "1def16fb-adc4-4615-9f22-0716742ad43f"
      },
      "source": [
        "esTrigramFreq.most_common(10)"
      ],
      "execution_count": 46,
      "outputs": [
        {
          "output_type": "execute_result",
          "data": {
            "text/plain": [
              "[(('one', 'of', 'the'), 14252),\n",
              " (('a', 'lot', 'of'), 12142),\n",
              " (('to', 'be', 'a'), 6782),\n",
              " (('it', 'was', 'a'), 6681),\n",
              " (('some', 'of', 'the'), 6660),\n",
              " (('as', 'well', 'as'), 6659),\n",
              " (('the', 'end', 'of'), 6426),\n",
              " (('out', 'of', 'the'), 6420),\n",
              " (('be', 'able', 'to'), 6199),\n",
              " (('a', 'couple', 'of'), 5976)]"
            ]
          },
          "metadata": {
            "tags": []
          },
          "execution_count": 46
        }
      ]
    },
    {
      "cell_type": "code",
      "metadata": {
        "id": "pfOjPxzmulOh",
        "colab_type": "code",
        "colab": {
          "base_uri": "https://localhost:8080/",
          "height": 199
        },
        "outputId": "e45d0a5b-909b-4a9d-cafc-0dbe9bd02b92"
      },
      "source": [
        "esQuadgrams = ngrams(words, 4)\n",
        "esQuadgramFreq = collections.Counter(esQuadgrams)\n",
        "esQuadgramFreq.most_common(10)"
      ],
      "execution_count": 47,
      "outputs": [
        {
          "output_type": "execute_result",
          "data": {
            "text/plain": [
              "[(('the', 'end', 'of', 'the'), 3327),\n",
              " (('the', 'rest', 'of', 'the'), 3040),\n",
              " (('at', 'the', 'end', 'of'), 2891),\n",
              " (('when', 'it', 'comes', 'to'), 1998),\n",
              " (('to', 'be', 'able', 'to'), 1878),\n",
              " (('one', 'of', 'the', 'most'), 1855),\n",
              " (('in', 'the', 'middle', 'of'), 1805),\n",
              " (('is', 'one', 'of', 'the'), 1773),\n",
              " (('i', 'am', 'going', 'to'), 1479),\n",
              " (('if', 'you', 'want', 'to'), 1431)]"
            ]
          },
          "metadata": {
            "tags": []
          },
          "execution_count": 47
        }
      ]
    },
    {
      "cell_type": "code",
      "metadata": {
        "id": "jSb6LUVLu1oH",
        "colab_type": "code",
        "colab": {}
      },
      "source": [
        ""
      ],
      "execution_count": 0,
      "outputs": []
    }
  ]
}